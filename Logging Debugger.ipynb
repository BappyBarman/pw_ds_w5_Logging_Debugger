{
 "cells": [
  {
   "cell_type": "code",
   "execution_count": 10,
   "id": "ad9c7f6a-bf16-4b95-9abc-8fa27f57d81c",
   "metadata": {},
   "outputs": [
    {
     "name": "stdout",
     "output_type": "stream",
     "text": [
      "this is my print stamt\n"
     ]
    }
   ],
   "source": [
    "print(\"this is my print stamt\")"
   ]
  },
  {
   "cell_type": "code",
   "execution_count": 1,
   "id": "fc0c34bf-48ca-4fee-8dc3-a076106164ef",
   "metadata": {},
   "outputs": [],
   "source": [
    "import logging"
   ]
  },
  {
   "cell_type": "code",
   "execution_count": 17,
   "id": "266632cf-d705-4c73-a7c4-9b73e2ee9664",
   "metadata": {},
   "outputs": [],
   "source": [
    "logging.basicConfig(filename = \"test.log\" , level = logging.INFO)"
   ]
  },
  {
   "cell_type": "code",
   "execution_count": 18,
   "id": "17832a20-8abc-46ee-9c24-98280cc5835e",
   "metadata": {},
   "outputs": [],
   "source": [
    "logging.info(\"This is my line of execution\")"
   ]
  },
  {
   "cell_type": "code",
   "execution_count": 19,
   "id": "7a2d9354-91b3-4091-9de5-0f5900bf6af0",
   "metadata": {},
   "outputs": [],
   "source": [
    "logging.error(\"this is my error\")"
   ]
  },
  {
   "cell_type": "code",
   "execution_count": 20,
   "id": "398ba7b8-e438-427e-a929-8b50630daec5",
   "metadata": {},
   "outputs": [],
   "source": [
    "logging.critical(\"this is my critical\")"
   ]
  },
  {
   "cell_type": "code",
   "execution_count": 21,
   "id": "7468ed80-ee85-4ed2-9819-f31b7fb63048",
   "metadata": {},
   "outputs": [],
   "source": [
    "logging.warning(\"this is warning\")"
   ]
  },
  {
   "cell_type": "code",
   "execution_count": 22,
   "id": "f190fb65-edf4-4a46-80d3-9bf8f604b95d",
   "metadata": {},
   "outputs": [],
   "source": [
    "logging.debug(\"this is my into related to debug\")"
   ]
  },
  {
   "cell_type": "code",
   "execution_count": 23,
   "id": "6ecd2c7f-7342-48c5-9f46-a3dbf8ef1f9e",
   "metadata": {},
   "outputs": [
    {
     "ename": "AttributeError",
     "evalue": "module 'logging' has no attribute 'noset'",
     "output_type": "error",
     "traceback": [
      "\u001b[0;31m---------------------------------------------------------------------------\u001b[0m",
      "\u001b[0;31mAttributeError\u001b[0m                            Traceback (most recent call last)",
      "Cell \u001b[0;32mIn[23], line 1\u001b[0m\n\u001b[0;32m----> 1\u001b[0m \u001b[43mlogging\u001b[49m\u001b[38;5;241;43m.\u001b[39;49m\u001b[43mnoset\u001b[49m(\u001b[38;5;124m\"\u001b[39m\u001b[38;5;124mthis is my noset\u001b[39m\u001b[38;5;124m\"\u001b[39m)\n",
      "\u001b[0;31mAttributeError\u001b[0m: module 'logging' has no attribute 'noset'"
     ]
    }
   ],
   "source": [
    "logging.noset(\"this is my noset\")"
   ]
  },
  {
   "cell_type": "code",
   "execution_count": 24,
   "id": "c132db8b-76cb-4a9d-ba21-074d778eaa1f",
   "metadata": {},
   "outputs": [],
   "source": [
    "logging.shutdown()"
   ]
  },
  {
   "cell_type": "code",
   "execution_count": 25,
   "id": "baaefe6f-75b9-4412-971e-0171290d7663",
   "metadata": {},
   "outputs": [
    {
     "ename": "SyntaxError",
     "evalue": "invalid syntax (3027634766.py, line 1)",
     "output_type": "error",
     "traceback": [
      "\u001b[0;36m  Cell \u001b[0;32mIn[25], line 1\u001b[0;36m\u001b[0m\n\u001b[0;31m    1. NOSET\u001b[0m\n\u001b[0m       ^\u001b[0m\n\u001b[0;31mSyntaxError\u001b[0m\u001b[0;31m:\u001b[0m invalid syntax\n"
     ]
    }
   ],
   "source": [
    "1. NOSET\n",
    "2. DEBUG\n",
    "3. INFO\n",
    "4. WARNING\n",
    "5. ERROR\n",
    "6. CRITICAL"
   ]
  },
  {
   "cell_type": "code",
   "execution_count": 33,
   "id": "f8a57dea-5654-4e38-a549-7ba6acdd882d",
   "metadata": {},
   "outputs": [],
   "source": [
    "logging.basicConfig(filename = \"test1.log\" , level = logging.debug ,format = '%(asctime)s %(message) s' )"
   ]
  },
  {
   "cell_type": "code",
   "execution_count": 34,
   "id": "5da2928f-a3d4-4c49-9444-ba8a084a2e38",
   "metadata": {},
   "outputs": [],
   "source": [
    "logging.info(\"this is my info log\")"
   ]
  },
  {
   "cell_type": "code",
   "execution_count": 35,
   "id": "c8f61c1f-9a84-42af-ac84-a03fa83f176c",
   "metadata": {},
   "outputs": [],
   "source": [
    "logging.debug(\"this is my debug log\")"
   ]
  },
  {
   "cell_type": "code",
   "execution_count": 36,
   "id": "e6492085-d053-4de7-af56-3e0c179bd8a7",
   "metadata": {},
   "outputs": [],
   "source": [
    "logging.warning(\"this is my warning\")"
   ]
  },
  {
   "cell_type": "code",
   "execution_count": 37,
   "id": "f89f0d87-bfd0-43d1-9d88-d8d8ac2ca698",
   "metadata": {},
   "outputs": [],
   "source": [
    "logging.shutdown()"
   ]
  },
  {
   "cell_type": "code",
   "execution_count": 2,
   "id": "8b1066ca-1312-472c-b7bf-831208515465",
   "metadata": {},
   "outputs": [],
   "source": [
    "logging.basicConfig(filename = \"test3.log\" , level = logging.DEBUG,format = '%(asctime)s %(name)s %(levelname)s %(message)s')"
   ]
  },
  {
   "cell_type": "code",
   "execution_count": 3,
   "id": "5234a063-682b-4452-9711-eb0eda4ee5b8",
   "metadata": {},
   "outputs": [],
   "source": [
    "logging.info(\"this is my info\")"
   ]
  },
  {
   "cell_type": "code",
   "execution_count": 4,
   "id": "7a1d114b-7301-4090-907b-25027fdf54c8",
   "metadata": {},
   "outputs": [],
   "source": [
    "l = [1,2,3,4,[4,5,6] , \"bappy\" , \"barman\"]"
   ]
  },
  {
   "cell_type": "code",
   "execution_count": 14,
   "id": "3850f042-3816-4e8c-8fef-3dabf7c76ee0",
   "metadata": {},
   "outputs": [],
   "source": [
    "l1_int = []\n",
    "l2_str = []\n",
    "for i in l :\n",
    "    logging.info(\"this is the start of my first for loop {}\".format(l))\n",
    "    logging.info(\"this is the value of i am logging {}\".format(i))\n",
    "    if type(i) == list:\n",
    "        for j in i :\n",
    "            logging.info(\"logging my j {j} and i {i}\".format(i = i ,j = j))\n",
    "            if type(j) == int :\n",
    "                l1_int.append(j)\n",
    "    elif type(i) == int :\n",
    "        l1_int.append(i)\n",
    "        \n",
    "    else :\n",
    "        if type(i) == str:\n",
    "            l2_str.append(i)\n",
    "logging.info(\"this is my final result with all int {l1} , with all str {l2}\".format(l1 =l1_int ,l2 =l2_str))"
   ]
  },
  {
   "cell_type": "code",
   "execution_count": 15,
   "id": "433578ea-b2e0-4fe6-8ec0-c0b93b41551b",
   "metadata": {},
   "outputs": [
    {
     "data": {
      "text/plain": [
       "[1, 2, 3, 4, 4, 5, 6]"
      ]
     },
     "execution_count": 15,
     "metadata": {},
     "output_type": "execute_result"
    }
   ],
   "source": [
    "l1_int"
   ]
  },
  {
   "cell_type": "code",
   "execution_count": 16,
   "id": "4292093b-3f90-4be1-8458-c694a05d5486",
   "metadata": {},
   "outputs": [
    {
     "data": {
      "text/plain": [
       "['bappy', 'barman']"
      ]
     },
     "execution_count": 16,
     "metadata": {},
     "output_type": "execute_result"
    }
   ],
   "source": [
    "l2_str"
   ]
  },
  {
   "cell_type": "code",
   "execution_count": null,
   "id": "17aeb207-6b3b-44c6-b3dd-4b5b13ba86d9",
   "metadata": {},
   "outputs": [],
   "source": []
  }
 ],
 "metadata": {
  "kernelspec": {
   "display_name": "Python 3 (ipykernel)",
   "language": "python",
   "name": "python3"
  },
  "language_info": {
   "codemirror_mode": {
    "name": "ipython",
    "version": 3
   },
   "file_extension": ".py",
   "mimetype": "text/x-python",
   "name": "python",
   "nbconvert_exporter": "python",
   "pygments_lexer": "ipython3",
   "version": "3.10.8"
  }
 },
 "nbformat": 4,
 "nbformat_minor": 5
}
